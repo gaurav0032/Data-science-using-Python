import pandas as pd
import numpy as np
import seaborn as sns
from sklearn.linear_model import LinearRegression
from sklearn.model_selection import train_test_split

#choose your dataset file path.
df = pd.read_csv(r"C:\Users\ranve\Downloads\archive (1)\CO2 Emissions_Canada.csv")
df


x = df[['Engine Size(L)']]
y = df[['CO2 Emissions(g/km)']]

model=LinearRegression()
x_train, x_test, y_train, y_test=train_test_split(x, y, test_size=0.2, random_state=42)

model.fit(x_train,y_train)

lm = sns.lmplot(x = "Engine Size(L)", y = "CO2 Emissions(g/km)", data = df, line_kws={'color':'green'})
